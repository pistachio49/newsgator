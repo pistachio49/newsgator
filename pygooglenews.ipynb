{
 "cells": [
  {
   "cell_type": "code",
   "execution_count": 3,
   "metadata": {},
   "outputs": [
    {
     "name": "stdout",
     "output_type": "stream",
     "text": [
      "Collecting pygooglenews\n",
      "  Using cached pygooglenews-0.1.2-py3-none-any.whl (10 kB)\n",
      "Collecting dateparser<0.8.0,>=0.7.6\n",
      "  Using cached dateparser-0.7.6-py2.py3-none-any.whl (362 kB)\n",
      "Requirement already satisfied: beautifulsoup4<5.0.0,>=4.9.1 in c:\\users\\alexm\\appdata\\local\\programs\\python\\python310\\lib\\site-packages (from pygooglenews) (4.11.2)\n",
      "Requirement already satisfied: requests<3.0.0,>=2.24.0 in c:\\users\\alexm\\appdata\\local\\programs\\python\\python310\\lib\\site-packages (from pygooglenews) (2.28.1)\n",
      "Collecting feedparser<6.0.0,>=5.2.1\n",
      "  Using cached feedparser-5.2.1.zip (1.2 MB)\n",
      "  Preparing metadata (setup.py): started\n",
      "  Preparing metadata (setup.py): finished with status 'error'\n",
      "Note: you may need to restart the kernel to use updated packages.\n"
     ]
    },
    {
     "name": "stderr",
     "output_type": "stream",
     "text": [
      "  error: subprocess-exited-with-error\n",
      "  \n",
      "  × python setup.py egg_info did not run successfully.\n",
      "  │ exit code: 1\n",
      "  ╰─> [1 lines of output]\n",
      "      error in feedparser setup command: use_2to3 is invalid.\n",
      "      [end of output]\n",
      "  \n",
      "  note: This error originates from a subprocess, and is likely not a problem with pip.\n",
      "error: metadata-generation-failed\n",
      "\n",
      "× Encountered error while generating package metadata.\n",
      "╰─> See above for output.\n",
      "\n",
      "note: This is an issue with the package mentioned above, not pip.\n",
      "hint: See above for details.\n"
     ]
    }
   ],
   "source": [
    "pip install pygooglenews"
   ]
  },
  {
   "cell_type": "code",
   "execution_count": 2,
   "metadata": {},
   "outputs": [
    {
     "ename": "ModuleNotFoundError",
     "evalue": "No module named 'pygooglenews'",
     "output_type": "error",
     "traceback": [
      "\u001b[1;31m---------------------------------------------------------------------------\u001b[0m",
      "\u001b[1;31mModuleNotFoundError\u001b[0m                       Traceback (most recent call last)",
      "\u001b[1;32mc:\\Users\\alexm\\OneDrive\\Desktop\\New folder\\projects\\nitckathon\\newsgator\\pygooglenews.ipynb Cell 1\u001b[0m in \u001b[0;36m<cell line: 1>\u001b[1;34m()\u001b[0m\n\u001b[1;32m----> <a href='vscode-notebook-cell:/c%3A/Users/alexm/OneDrive/Desktop/New%20folder/projects/nitckathon/newsgator/pygooglenews.ipynb#ch0000001?line=0'>1</a>\u001b[0m \u001b[39mfrom\u001b[39;00m \u001b[39mpygooglenews\u001b[39;00m \u001b[39mimport\u001b[39;00m GoogleNews\n",
      "\u001b[1;31mModuleNotFoundError\u001b[0m: No module named 'pygooglenews'"
     ]
    }
   ],
   "source": [
    "from pygooglenews import GoogleNews"
   ]
  }
 ],
 "metadata": {
  "kernelspec": {
   "display_name": "Python 3.9.7 ('base')",
   "language": "python",
   "name": "python3"
  },
  "language_info": {
   "codemirror_mode": {
    "name": "ipython",
    "version": 3
   },
   "file_extension": ".py",
   "mimetype": "text/x-python",
   "name": "python",
   "nbconvert_exporter": "python",
   "pygments_lexer": "ipython3",
   "version": "3.9.7"
  },
  "orig_nbformat": 4,
  "vscode": {
   "interpreter": {
    "hash": "d7d89c637cbc7be1f35f161e74b3edcde4e25547135d789f3d784da9f6dd6e05"
   }
  }
 },
 "nbformat": 4,
 "nbformat_minor": 2
}
