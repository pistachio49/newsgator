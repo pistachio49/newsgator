{
 "cells": [
  {
   "cell_type": "code",
   "execution_count": 1,
   "metadata": {},
   "outputs": [
    {
     "name": "stdout",
     "output_type": "stream",
     "text": [
      "Collecting newsapi\n",
      "  Downloading newsapi-0.1.1-py2.py3-none-any.whl (4.1 kB)\n",
      "Requirement already satisfied: requests in c:\\users\\alexm\\appdata\\local\\programs\\python\\python310\\lib\\site-packages (from newsapi) (2.28.1)\n",
      "Requirement already satisfied: urllib3<1.27,>=1.21.1 in c:\\users\\alexm\\appdata\\local\\programs\\python\\python310\\lib\\site-packages (from requests->newsapi) (1.26.12)\n",
      "Requirement already satisfied: charset-normalizer<3,>=2 in c:\\users\\alexm\\appdata\\local\\programs\\python\\python310\\lib\\site-packages (from requests->newsapi) (2.1.1)\n",
      "Requirement already satisfied: certifi>=2017.4.17 in c:\\users\\alexm\\appdata\\local\\programs\\python\\python310\\lib\\site-packages (from requests->newsapi) (2022.6.15)\n",
      "Requirement already satisfied: idna<4,>=2.5 in c:\\users\\alexm\\appdata\\local\\programs\\python\\python310\\lib\\site-packages (from requests->newsapi) (3.3)\n",
      "Installing collected packages: newsapi\n",
      "Successfully installed newsapi-0.1.1\n",
      "Note: you may need to restart the kernel to use updated packages.\n"
     ]
    }
   ],
   "source": [
    "pip install newsapi"
   ]
  },
  {
   "cell_type": "code",
   "execution_count": 2,
   "metadata": {},
   "outputs": [
    {
     "name": "stdout",
     "output_type": "stream",
     "text": [
      "Collecting GoogleNews\n",
      "  Downloading GoogleNews-1.6.6-py3-none-any.whl (8.0 kB)\n",
      "Requirement already satisfied: python-dateutil in c:\\users\\alexm\\appdata\\local\\programs\\python\\python310\\lib\\site-packages (from GoogleNews) (2.8.2)\n",
      "Requirement already satisfied: beautifulsoup4 in c:\\users\\alexm\\appdata\\local\\programs\\python\\python310\\lib\\site-packages (from GoogleNews) (4.11.2)\n",
      "Requirement already satisfied: dateparser in c:\\users\\alexm\\appdata\\local\\programs\\python\\python310\\lib\\site-packages (from GoogleNews) (1.1.7)\n",
      "Requirement already satisfied: soupsieve>1.2 in c:\\users\\alexm\\appdata\\local\\programs\\python\\python310\\lib\\site-packages (from beautifulsoup4->GoogleNews) (2.4)\n",
      "Requirement already satisfied: tzlocal in c:\\users\\alexm\\appdata\\local\\programs\\python\\python310\\lib\\site-packages (from dateparser->GoogleNews) (4.2)\n",
      "Requirement already satisfied: regex!=2019.02.19,!=2021.8.27 in c:\\users\\alexm\\appdata\\local\\programs\\python\\python310\\lib\\site-packages (from dateparser->GoogleNews) (2022.10.31)\n",
      "Requirement already satisfied: pytz in c:\\users\\alexm\\appdata\\local\\programs\\python\\python310\\lib\\site-packages (from dateparser->GoogleNews) (2022.2.1)\n",
      "Requirement already satisfied: six>=1.5 in c:\\users\\alexm\\appdata\\local\\programs\\python\\python310\\lib\\site-packages (from python-dateutil->GoogleNews) (1.16.0)\n",
      "Requirement already satisfied: tzdata in c:\\users\\alexm\\appdata\\local\\programs\\python\\python310\\lib\\site-packages (from tzlocal->dateparser->GoogleNews) (2022.7)\n",
      "Requirement already satisfied: pytz-deprecation-shim in c:\\users\\alexm\\appdata\\local\\programs\\python\\python310\\lib\\site-packages (from tzlocal->dateparser->GoogleNews) (0.1.0.post0)\n",
      "Installing collected packages: GoogleNews\n",
      "Successfully installed GoogleNews-1.6.6\n",
      "Note: you may need to restart the kernel to use updated packages.\n"
     ]
    }
   ],
   "source": [
    "pip install GoogleNews"
   ]
  }
 ],
 "metadata": {
  "kernelspec": {
   "display_name": "Python 3.10.8 64-bit",
   "language": "python",
   "name": "python3"
  },
  "language_info": {
   "codemirror_mode": {
    "name": "ipython",
    "version": 3
   },
   "file_extension": ".py",
   "mimetype": "text/x-python",
   "name": "python",
   "nbconvert_exporter": "python",
   "pygments_lexer": "ipython3",
   "version": "3.10.8"
  },
  "orig_nbformat": 4,
  "vscode": {
   "interpreter": {
    "hash": "9cba196fd95038b792069c4c13deb95aa682591ebee981b4ab7f9261a972a9d4"
   }
  }
 },
 "nbformat": 4,
 "nbformat_minor": 2
}
