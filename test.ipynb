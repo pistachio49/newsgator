{
 "cells": [
  {
   "cell_type": "code",
   "execution_count": 1,
   "metadata": {},
   "outputs": [],
   "source": [
    "import pandas as pd"
   ]
  },
  {
   "cell_type": "code",
   "execution_count": 5,
   "metadata": {},
   "outputs": [
    {
     "name": "stdout",
     "output_type": "stream",
     "text": [
      "Collecting lxml\n",
      "  Downloading lxml-4.9.2-cp310-cp310-win_amd64.whl (3.8 MB)\n",
      "     ---------------------------------------- 3.8/3.8 MB 8.3 MB/s eta 0:00:00\n",
      "Installing collected packages: lxml\n",
      "Successfully installed lxml-4.9.2\n",
      "Note: you may need to restart the kernel to use updated packages.\n"
     ]
    }
   ],
   "source": [
    "pip install lxml"
   ]
  },
  {
   "cell_type": "code",
   "execution_count": 10,
   "metadata": {},
   "outputs": [
    {
     "data": {
      "text/html": [
       "<div>\n",
       "<style scoped>\n",
       "    .dataframe tbody tr th:only-of-type {\n",
       "        vertical-align: middle;\n",
       "    }\n",
       "\n",
       "    .dataframe tbody tr th {\n",
       "        vertical-align: top;\n",
       "    }\n",
       "\n",
       "    .dataframe thead th {\n",
       "        text-align: right;\n",
       "    }\n",
       "</style>\n",
       "<table border=\"1\" class=\"dataframe\">\n",
       "  <thead>\n",
       "    <tr style=\"text-align: right;\">\n",
       "      <th></th>\n",
       "      <th>generator</th>\n",
       "      <th>title</th>\n",
       "      <th>link</th>\n",
       "      <th>language</th>\n",
       "      <th>webMaster</th>\n",
       "      <th>copyright</th>\n",
       "      <th>lastBuildDate</th>\n",
       "      <th>description</th>\n",
       "      <th>item</th>\n",
       "    </tr>\n",
       "  </thead>\n",
       "  <tbody>\n",
       "    <tr>\n",
       "      <th>0</th>\n",
       "      <td>NFE/5.0</td>\n",
       "      <td>\"theft kia\" - Google News</td>\n",
       "      <td>https://news.google.com/search?q=theft+kia&amp;hl=...</td>\n",
       "      <td>en-US</td>\n",
       "      <td>news-webmaster@google.com</td>\n",
       "      <td>2023 Google Inc.</td>\n",
       "      <td>Sat, 04 Mar 2023 08:42:34 GMT</td>\n",
       "      <td>Google News</td>\n",
       "      <td>NaN</td>\n",
       "    </tr>\n",
       "  </tbody>\n",
       "</table>\n",
       "</div>"
      ],
      "text/plain": [
       "  generator                      title  \\\n",
       "0   NFE/5.0  \"theft kia\" - Google News   \n",
       "\n",
       "                                                link language  \\\n",
       "0  https://news.google.com/search?q=theft+kia&hl=...    en-US   \n",
       "\n",
       "                   webMaster         copyright                  lastBuildDate  \\\n",
       "0  news-webmaster@google.com  2023 Google Inc.  Sat, 04 Mar 2023 08:42:34 GMT   \n",
       "\n",
       "   description  item  \n",
       "0  Google News   NaN  "
      ]
     },
     "execution_count": 10,
     "metadata": {},
     "output_type": "execute_result"
    }
   ],
   "source": [
    "url = 'https://news.google.com/rss/search?q=theft+kia&hl=en-US&gl=US&ceid=US:en'\n",
    "\n",
    "df = pd.read_xml(url)\n",
    "df"
   ]
  },
  {
   "cell_type": "code",
   "execution_count": 11,
   "metadata": {},
   "outputs": [
    {
     "name": "stdout",
     "output_type": "stream",
     "text": [
      "https://news.google.com/search?q=theft+kia&hl=en-US&gl=US&ceid=US:en\n"
     ]
    }
   ],
   "source": [
    "print(df[\"link\"][0])"
   ]
  },
  {
   "cell_type": "code",
   "execution_count": 18,
   "metadata": {},
   "outputs": [
    {
     "name": "stdout",
     "output_type": "stream",
     "text": [
      "Collecting feedparser\n",
      "  Downloading feedparser-6.0.10-py3-none-any.whl (81 kB)\n",
      "     -------------------------------------- 81.1/81.1 kB 226.4 kB/s eta 0:00:00\n",
      "Collecting sgmllib3k\n",
      "  Downloading sgmllib3k-1.0.0.tar.gz (5.8 kB)\n",
      "  Preparing metadata (setup.py): started\n",
      "  Preparing metadata (setup.py): finished with status 'done'\n",
      "Building wheels for collected packages: sgmllib3k\n",
      "  Building wheel for sgmllib3k (setup.py): started\n",
      "  Building wheel for sgmllib3k (setup.py): finished with status 'done'\n",
      "  Created wheel for sgmllib3k: filename=sgmllib3k-1.0.0-py3-none-any.whl size=6048 sha256=644a6d44d8bb2fd989c3c81ffc84b01503b2c9fbce97d4c8ae0bfd115299b954\n",
      "  Stored in directory: c:\\users\\alexm\\appdata\\local\\pip\\cache\\wheels\\f0\\69\\93\\a47e9d621be168e9e33c7ce60524393c0b92ae83cf6c6e89c5\n",
      "Successfully built sgmllib3k\n",
      "Installing collected packages: sgmllib3k, feedparser\n",
      "Successfully installed feedparser-6.0.10 sgmllib3k-1.0.0\n",
      "Note: you may need to restart the kernel to use updated packages.\n"
     ]
    }
   ],
   "source": [
    "pip install feedparser"
   ]
  },
  {
   "cell_type": "code",
   "execution_count": null,
   "metadata": {},
   "outputs": [],
   "source": []
  },
  {
   "cell_type": "code",
   "execution_count": null,
   "metadata": {},
   "outputs": [],
   "source": []
  },
  {
   "cell_type": "code",
   "execution_count": 17,
   "metadata": {},
   "outputs": [
    {
     "ename": "AttributeError",
     "evalue": "module 'newscatcherapi' has no attribute 'ApiClient'",
     "output_type": "error",
     "traceback": [
      "\u001b[1;31m---------------------------------------------------------------------------\u001b[0m",
      "\u001b[1;31mAttributeError\u001b[0m                            Traceback (most recent call last)",
      "\u001b[1;32mc:\\Users\\alexm\\OneDrive\\Desktop\\New folder\\projects\\nitckathon\\newsgator\\test.ipynb Cell 6\u001b[0m in \u001b[0;36m<cell line: 5>\u001b[1;34m()\u001b[0m\n\u001b[0;32m      <a href='vscode-notebook-cell:/c%3A/Users/alexm/OneDrive/Desktop/New%20folder/projects/nitckathon/newsgator/test.ipynb#ch0000004?line=0'>1</a>\u001b[0m \u001b[39m# get news articles based on keywords\u001b[39;00m\n\u001b[0;32m      <a href='vscode-notebook-cell:/c%3A/Users/alexm/OneDrive/Desktop/New%20folder/projects/nitckathon/newsgator/test.ipynb#ch0000004?line=2'>3</a>\u001b[0m \u001b[39mimport\u001b[39;00m \u001b[39mnewscatcherapi\u001b[39;00m\n\u001b[1;32m----> <a href='vscode-notebook-cell:/c%3A/Users/alexm/OneDrive/Desktop/New%20folder/projects/nitckathon/newsgator/test.ipynb#ch0000004?line=4'>5</a>\u001b[0m client \u001b[39m=\u001b[39m newscatcherapi\u001b[39m.\u001b[39;49mApiClient()\n\u001b[0;32m      <a href='vscode-notebook-cell:/c%3A/Users/alexm/OneDrive/Desktop/New%20folder/projects/nitckathon/newsgator/test.ipynb#ch0000004?line=6'>7</a>\u001b[0m articles \u001b[39m=\u001b[39m client\u001b[39m.\u001b[39mget_search(q\u001b[39m=\u001b[39m\u001b[39m'\u001b[39m\u001b[39mtheft\u001b[39m\u001b[39m'\u001b[39m)\n\u001b[0;32m      <a href='vscode-notebook-cell:/c%3A/Users/alexm/OneDrive/Desktop/New%20folder/projects/nitckathon/newsgator/test.ipynb#ch0000004?line=8'>9</a>\u001b[0m \u001b[39mfor\u001b[39;00m article \u001b[39min\u001b[39;00m articles[\u001b[39m'\u001b[39m\u001b[39marticles\u001b[39m\u001b[39m'\u001b[39m]:\n",
      "\u001b[1;31mAttributeError\u001b[0m: module 'newscatcherapi' has no attribute 'ApiClient'"
     ]
    }
   ],
   "source": [
    "# get news articles based on keywords\n",
    "\n",
    "import newscatcherapi\n",
    "\n",
    "client = newscatcherapi.ApiClient()\n",
    "\n",
    "articles = client.get_search(q='theft')\n",
    "\n",
    "for article in articles['articles']:\n",
    "    print(article['title'])\n"
   ]
  }
 ],
 "metadata": {
  "kernelspec": {
   "display_name": "Python 3.10.8 64-bit",
   "language": "python",
   "name": "python3"
  },
  "language_info": {
   "codemirror_mode": {
    "name": "ipython",
    "version": 3
   },
   "file_extension": ".py",
   "mimetype": "text/x-python",
   "name": "python",
   "nbconvert_exporter": "python",
   "pygments_lexer": "ipython3",
   "version": "3.10.8"
  },
  "orig_nbformat": 4,
  "vscode": {
   "interpreter": {
    "hash": "9cba196fd95038b792069c4c13deb95aa682591ebee981b4ab7f9261a972a9d4"
   }
  }
 },
 "nbformat": 4,
 "nbformat_minor": 2
}
